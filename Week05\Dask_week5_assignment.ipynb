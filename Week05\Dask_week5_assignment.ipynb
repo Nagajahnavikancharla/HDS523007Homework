{
  "nbformat": 4,
  "nbformat_minor": 0,
  "metadata": {
    "colab": {
      "provenance": [],
      "include_colab_link": true
    },
    "kernelspec": {
      "name": "python3",
      "display_name": "Python 3"
    },
    "language_info": {
      "name": "python"
    }
  },
  "cells": [
    {
      "cell_type": "markdown",
      "metadata": {
        "id": "view-in-github",
        "colab_type": "text"
      },
      "source": [
        "<a href=\"https://colab.research.google.com/github/Nagajahnavikancharla/HDS523007Homework/blob/main/Week05%5CDask_week5_assignment.ipynb\" target=\"_parent\"><img src=\"https://colab.research.google.com/assets/colab-badge.svg\" alt=\"Open In Colab\"/></a>"
      ]
    },
    {
      "cell_type": "markdown",
      "source": [
        "Name: Naga Jahnavi Kancharla\n",
        "Assignment: Week 5\n",
        "Course number: Hds5230-07"
      ],
      "metadata": {
        "id": "nSceDardSMrN"
      }
    },
    {
      "cell_type": "markdown",
      "source": [
        "Importing required libraries"
      ],
      "metadata": {
        "id": "UpMgj0TjSlbX"
      }
    },
    {
      "cell_type": "code",
      "execution_count": null,
      "metadata": {
        "id": "U1OhAoAv8IOi"
      },
      "outputs": [],
      "source": [
        "import dask\n",
        "import dask.dataframe as dd\n",
        "import pandas as pd\n",
        "import numpy as np\n",
        "from datetime import datetime"
      ]
    },
    {
      "cell_type": "code",
      "source": [
        "\n",
        "!pip install \"dask[distributed]\"\n",
        "\n",
        "\n",
        "\n",
        "\n"
      ],
      "metadata": {
        "colab": {
          "base_uri": "https://localhost:8080/"
        },
        "id": "eUEVr71rHWo_",
        "outputId": "188584cb-8f78-4acb-c728-19783b88c831"
      },
      "execution_count": null,
      "outputs": [
        {
          "output_type": "stream",
          "name": "stdout",
          "text": [
            "Requirement already satisfied: dask[distributed] in /usr/local/lib/python3.11/dist-packages (2024.10.0)\n",
            "Requirement already satisfied: click>=8.1 in /usr/local/lib/python3.11/dist-packages (from dask[distributed]) (8.1.8)\n",
            "Requirement already satisfied: cloudpickle>=3.0.0 in /usr/local/lib/python3.11/dist-packages (from dask[distributed]) (3.1.1)\n",
            "Requirement already satisfied: fsspec>=2021.09.0 in /usr/local/lib/python3.11/dist-packages (from dask[distributed]) (2024.10.0)\n",
            "Requirement already satisfied: packaging>=20.0 in /usr/local/lib/python3.11/dist-packages (from dask[distributed]) (24.2)\n",
            "Requirement already satisfied: partd>=1.4.0 in /usr/local/lib/python3.11/dist-packages (from dask[distributed]) (1.4.2)\n",
            "Requirement already satisfied: pyyaml>=5.3.1 in /usr/local/lib/python3.11/dist-packages (from dask[distributed]) (6.0.2)\n",
            "Requirement already satisfied: toolz>=0.10.0 in /usr/local/lib/python3.11/dist-packages (from dask[distributed]) (0.12.1)\n",
            "Requirement already satisfied: importlib-metadata>=4.13.0 in /usr/local/lib/python3.11/dist-packages (from dask[distributed]) (8.6.1)\n",
            "Requirement already satisfied: distributed==2024.10.0 in /usr/local/lib/python3.11/dist-packages (from dask[distributed]) (2024.10.0)\n",
            "Requirement already satisfied: jinja2>=2.10.3 in /usr/local/lib/python3.11/dist-packages (from distributed==2024.10.0->dask[distributed]) (3.1.5)\n",
            "Requirement already satisfied: locket>=1.0.0 in /usr/local/lib/python3.11/dist-packages (from distributed==2024.10.0->dask[distributed]) (1.0.0)\n",
            "Requirement already satisfied: msgpack>=1.0.2 in /usr/local/lib/python3.11/dist-packages (from distributed==2024.10.0->dask[distributed]) (1.1.0)\n",
            "Requirement already satisfied: psutil>=5.8.0 in /usr/local/lib/python3.11/dist-packages (from distributed==2024.10.0->dask[distributed]) (5.9.5)\n",
            "Requirement already satisfied: sortedcontainers>=2.0.5 in /usr/local/lib/python3.11/dist-packages (from distributed==2024.10.0->dask[distributed]) (2.4.0)\n",
            "Requirement already satisfied: tblib>=1.6.0 in /usr/local/lib/python3.11/dist-packages (from distributed==2024.10.0->dask[distributed]) (3.0.0)\n",
            "Requirement already satisfied: tornado>=6.2.0 in /usr/local/lib/python3.11/dist-packages (from distributed==2024.10.0->dask[distributed]) (6.4.2)\n",
            "Requirement already satisfied: urllib3>=1.26.5 in /usr/local/lib/python3.11/dist-packages (from distributed==2024.10.0->dask[distributed]) (2.3.0)\n",
            "Requirement already satisfied: zict>=3.0.0 in /usr/local/lib/python3.11/dist-packages (from distributed==2024.10.0->dask[distributed]) (3.0.0)\n",
            "Requirement already satisfied: zipp>=3.20 in /usr/local/lib/python3.11/dist-packages (from importlib-metadata>=4.13.0->dask[distributed]) (3.21.0)\n",
            "Requirement already satisfied: MarkupSafe>=2.0 in /usr/local/lib/python3.11/dist-packages (from jinja2>=2.10.3->distributed==2024.10.0->dask[distributed]) (3.0.2)\n"
          ]
        }
      ]
    },
    {
      "cell_type": "markdown",
      "source": [
        "#defining datatypes"
      ],
      "metadata": {
        "id": "14v3pPWvUyUS"
      }
    },
    {
      "cell_type": "code",
      "source": [
        "dtypes = {\n",
        "    'population': 'float64',\n",
        "    'deaths': 'float64',\n",
        "    'cases': 'float64',\n",
        "    'state': 'object',\n",
        "    'country': 'object',\n",
        "    'level': 'object',\n",
        "    'date': 'object',\n",
        "    'aggregate': 'object',\n",
        "    'city': 'object'\n",
        "}\n",
        "# Reading the CSV file and loading it into a dask dataframe.\n",
        "covid_data = dd.read_csv('/content/timeseries.csv', dtype=dtypes)\n",
        "\n",
        "#Creating a new dataframe object that consists of samples  corresponding to states in the US.\n",
        "\n",
        "us_states_dd = covid_data[covid_data['country'] == 'United States']\n",
        "us_states_dd = us_states_dd[us_states_dd['level'] == 'state']"
      ],
      "metadata": {
        "id": "r1K0bm988dQe"
      },
      "execution_count": null,
      "outputs": []
    },
    {
      "cell_type": "markdown",
      "source": [
        "The above code filters the DataFrame to include only rows where the country is 'United States' and where the level is 'state', with the operation performed in parallel by Dask, dividing the data into segments and applying the filters concurrently to each segment."
      ],
      "metadata": {
        "id": "KDbzbdV09Tla"
      }
    },
    {
      "cell_type": "code",
      "source": [
        "#3.2\n",
        "us_states_dd['date'] = dd.to_datetime(us_states_dd['date'])\n",
        "\n",
        "mask = (us_states_dd['date'] >= '2020-01-01') & (us_states_dd['date'] <= '2021-02-28')\n",
        "states_filtered = us_states_dd[mask]"
      ],
      "metadata": {
        "id": "Zhn_NPyp8o3u"
      },
      "execution_count": null,
      "outputs": []
    },
    {
      "cell_type": "code",
      "source": [
        "state_metrics = states_filtered.groupby('state').agg({\n",
        "    'deaths': 'max',\n",
        "    'population': 'mean'\n",
        "}).compute()\n",
        "\n",
        "state_metrics['per_capita_mortality'] = state_metrics['deaths'] / state_metrics['population']\n",
        "\n",
        "# Ranking  states by per-capita mortality\n",
        "mortality_ranking = state_metrics.sort_values('per_capita_mortality', ascending=False)\n",
        "\n",
        "print(\"\\nTop 10 states by per-capita mortality:\")\n",
        "print(mortality_ranking[['deaths', 'population', 'per_capita_mortality']].head(10))"
      ],
      "metadata": {
        "colab": {
          "base_uri": "https://localhost:8080/"
        },
        "id": "3InB2Epg-M2R",
        "outputId": "986447e6-dea3-482c-d1ec-91011b273e8f"
      },
      "execution_count": null,
      "outputs": [
        {
          "output_type": "stream",
          "name": "stderr",
          "text": [
            "/usr/local/lib/python3.11/dist-packages/dask/dataframe/io/csv.py:195: DtypeWarning: Columns (3) have mixed types. Specify dtype option on import or set low_memory=False.\n",
            "  df = reader(bio, **kwargs)\n"
          ]
        },
        {
          "output_type": "stream",
          "name": "stdout",
          "text": [
            "\n",
            "Top 10 states by per-capita mortality:\n",
            "                   deaths  population  per_capita_mortality\n",
            "state                                                      \n",
            "New Jersey        15211.0   8882190.0              0.001713\n",
            "New York          24904.0  19453561.0              0.001280\n",
            "Connecticut        4335.0   3565287.0              0.001216\n",
            "Massachusetts      8183.0   6892503.0              0.001187\n",
            "Rhode Island        960.0   1059361.0              0.000906\n",
            "Washington, D.C.    559.0    705749.0              0.000792\n",
            "Louisiana          3288.0   4648794.0              0.000707\n",
            "Michigan           6218.0   9986857.0              0.000623\n",
            "Illinois           7020.0  12671821.0              0.000554\n",
            "Maryland           3243.0   6045680.0              0.000536\n"
          ]
        }
      ]
    },
    {
      "cell_type": "markdown",
      "source": [
        "For this code, I have used different functions like filtering, grouping, and aggregating. I think parallelism makes sense because each partition of the dataset can be processed independently before combining the results."
      ],
      "metadata": {
        "id": "fY3moa-vLMiB"
      }
    },
    {
      "cell_type": "markdown",
      "source": [
        "From the results we can see that Newjersy has the highest moratality rate"
      ],
      "metadata": {
        "id": "DfBdwoN-S-1j"
      }
    },
    {
      "cell_type": "markdown",
      "source": [],
      "metadata": {
        "id": "C-neqN-Y-nZ9"
      }
    },
    {
      "cell_type": "code",
      "source": [
        "#3.3\n",
        "states_filtered['year_month'] = states_filtered['date'].dt.to_period('M')\n",
        "\n",
        "monthly_metrics = states_filtered.groupby(['state', 'year_month']).agg({\n",
        "    'deaths': 'max',\n",
        "    'cases': 'max'\n",
        "}).compute()\n",
        "\n",
        "\n",
        "\n",
        "monthly_metrics['cfr'] = monthly_metrics['deaths'] / monthly_metrics['cases']\n",
        "\n",
        "# Reshaping  to get the matrix\n",
        "cfr_matrix = monthly_metrics['cfr'].unstack()\n",
        "print(cfr_matrix)\n",
        "print(cfr_matrix.shape)"
      ],
      "metadata": {
        "colab": {
          "base_uri": "https://localhost:8080/"
        },
        "id": "G0vHytROAM8v",
        "outputId": "c93ba136-adcc-4be1-e020-467a00635842"
      },
      "execution_count": null,
      "outputs": [
        {
          "output_type": "stream",
          "name": "stdout",
          "text": [
            "year_month                     2020-03   2020-04   2020-05   2020-06  \\\n",
            "state                                                                  \n",
            "Virginia                      0.009608  0.034835  0.030824  0.028098   \n",
            "Washington                    0.039828  0.056930  0.049356  0.038592   \n",
            "Alabama                       0.013013  0.038325  0.035094  0.024970   \n",
            "Alaska                             NaN  0.025352  0.021368  0.010705   \n",
            "Arizona                            NaN  0.041841  0.045295  0.014934   \n",
            "Arkansas                      0.014184  0.018740  0.018825  0.013462   \n",
            "California                    0.021279  0.040429  0.037282  0.026362   \n",
            "Colorado                      0.024321  0.051904  0.054810  0.051685   \n",
            "Connecticut                   0.018004  0.081480  0.093856  0.093328   \n",
            "Delaware                      0.031348  0.032108  0.038742  0.044509   \n",
            "Washington, D.C.              0.018182  0.051816  0.052949  0.053355   \n",
            "Florida                       0.012609  0.037637  0.043695  0.023010   \n",
            "Georgia                       0.030362  0.042822  0.043598  0.036953   \n",
            "Hawaii                        0.004785       NaN  0.026480  0.020000   \n",
            "Idaho                         0.017143  0.030242  0.028722  0.015023   \n",
            "Illinois                      0.016563  0.044503  0.044996  0.048291   \n",
            "Indiana                       0.022696  0.053144  0.060233  0.056483   \n",
            "Iowa                          0.014085  0.022673  0.027370  0.024598   \n",
            "Kansas                        0.005391  0.030439  0.021361  0.018865   \n",
            "Kentucky                      0.027027  0.051934  0.044380  0.036944   \n",
            "Louisiana                     0.045637  0.066498  0.069919  0.053586   \n",
            "Maine                         0.016502  0.048402  0.038313  0.032298   \n",
            "Maryland                      0.006024  0.052433  0.046936  0.046382   \n",
            "Massachusetts                 0.013444  0.057262  0.070747  0.074479   \n",
            "Michigan                      0.035032  0.091568  0.096220  0.087641   \n",
            "Minnesota                          NaN  0.066783  0.042002  0.039785   \n",
            "Mississippi                   0.021345  0.038298  0.047352  0.039379   \n",
            "Missouri                      0.010550  0.043507  0.059482  0.050752   \n",
            "Montana                            NaN  0.035320  0.033010  0.022751   \n",
            "Nebraska                           NaN  0.017482  0.012689  0.014536   \n",
            "Nevada                        0.025743  0.047419  0.048563  0.027284   \n",
            "New Hampshire                 0.008174  0.032132  0.052745  0.064176   \n",
            "New Jersey                    0.017855  0.060918  0.073292  0.086968   \n",
            "New Mexico                    0.015873  0.034858  0.046300  0.040915   \n",
            "New York                      0.005689  0.060193  0.064513  0.064101   \n",
            "North Carolina                0.005267  0.035969  0.031758  0.020934   \n",
            "North Dakota                  0.007937  0.017807  0.023671  0.022092   \n",
            "Ohio                          0.025011  0.054086  0.060682  0.055282   \n",
            "Oklahoma                      0.040636  0.061360  0.051337  0.028133   \n",
            "Oregon                        0.026087  0.041036  0.036059  0.024126   \n",
            "Pennsylvania                  0.013008  0.050084  0.072883  0.073389   \n",
            "Rhode Island                  0.006148  0.030855  0.047979  0.057942   \n",
            "South Carolina                0.020314  0.040033  0.041649  0.020303   \n",
            "South Dakota                  0.009346  0.006942  0.012417  0.013454   \n",
            "Tennessee                     0.001787  0.018811  0.016044  0.013944   \n",
            "Texas                         0.012554  0.027057  0.025903  0.014889   \n",
            "Utah                          0.005637  0.009846  0.011395  0.007199   \n",
            "Vermont                       0.024823  0.056582  0.056295  0.046589   \n",
            "West Virginia                      NaN  0.036673  0.037313  0.032025   \n",
            "Wisconsin                     0.011843  0.046104  0.032251  0.027242   \n",
            "Wyoming                            NaN  0.012868  0.017719  0.013450   \n",
            "Guam                          0.027027  0.034247  0.028902  0.027027   \n",
            "Puerto Rico                        NaN  0.059779  0.035772  0.025659   \n",
            "American Samoa                     NaN       NaN       NaN       NaN   \n",
            "Northern Mariana Islands           NaN  0.142857  0.090909  0.066667   \n",
            "United States Virgin Islands       NaN  0.060606  0.086957  0.083333   \n",
            "\n",
            "year_month                     2020-07  2020-01  2020-02  \n",
            "state                                                     \n",
            "Virginia                      0.028183      NaN      NaN  \n",
            "Washington                    0.038415      NaN      0.1  \n",
            "Alabama                       0.022911      NaN      NaN  \n",
            "Alaska                        0.014401      NaN      NaN  \n",
            "Arizona                       0.018442      NaN      NaN  \n",
            "Arkansas                      0.012323      NaN      NaN  \n",
            "California                    0.025195      NaN      NaN  \n",
            "Colorado                      0.049934      NaN      NaN  \n",
            "Connecticut                   0.092793      NaN      NaN  \n",
            "Delaware                      0.042216      NaN      NaN  \n",
            "Washington, D.C.              0.053330      NaN      NaN  \n",
            "Florida                       0.018645      NaN      NaN  \n",
            "Georgia                       0.029943      NaN      NaN  \n",
            "Hawaii                             NaN      NaN      NaN  \n",
            "Idaho                         0.012619      NaN      NaN  \n",
            "Illinois                      0.047674      NaN      NaN  \n",
            "Indiana                       0.053144      NaN      NaN  \n",
            "Iowa                          0.022996      NaN      NaN  \n",
            "Kansas                        0.017401      NaN      NaN  \n",
            "Kentucky                      0.036856      NaN      NaN  \n",
            "Louisiana                     0.050409      NaN      NaN  \n",
            "Maine                         0.031918      NaN      NaN  \n",
            "Maryland                      0.046573      NaN      NaN  \n",
            "Massachusetts                 0.074408      NaN      NaN  \n",
            "Michigan                      0.085247      NaN      NaN  \n",
            "Minnesota                     0.039543      NaN      NaN  \n",
            "Mississippi                   0.035955      NaN      NaN  \n",
            "Missouri                      0.043864      NaN      NaN  \n",
            "Montana                       0.018977      NaN      NaN  \n",
            "Nebraska                      0.014321      NaN      NaN  \n",
            "Nevada                        0.023820      NaN      NaN  \n",
            "New Hampshire                 0.064197      NaN      NaN  \n",
            "New Jersey                    0.087721      NaN      NaN  \n",
            "New Mexico                    0.039271      NaN      NaN  \n",
            "New York                      0.062710      NaN      NaN  \n",
            "North Carolina                0.019128      NaN      NaN  \n",
            "North Dakota                  0.023323      NaN      NaN  \n",
            "Ohio                          0.050935      NaN      NaN  \n",
            "Oklahoma                      0.024987      NaN      NaN  \n",
            "Oregon                        0.021017      NaN      NaN  \n",
            "Pennsylvania                  0.075155      NaN      NaN  \n",
            "Rhode Island                  0.056501      NaN      NaN  \n",
            "South Carolina                0.018284      NaN      NaN  \n",
            "South Dakota                  0.013734      NaN      NaN  \n",
            "Tennessee                     0.012561      NaN      NaN  \n",
            "Texas                         0.013507      NaN      NaN  \n",
            "Utah                          0.007374      NaN      NaN  \n",
            "Vermont                       0.044836      NaN      NaN  \n",
            "West Virginia                 0.028817      NaN      NaN  \n",
            "Wisconsin                     0.023115      NaN      NaN  \n",
            "Wyoming                       0.012240      NaN      NaN  \n",
            "Guam                          0.017361      NaN      NaN  \n",
            "Puerto Rico                   0.019581      NaN      NaN  \n",
            "American Samoa                     NaN      NaN      NaN  \n",
            "Northern Mariana Islands      0.064516      NaN      NaN  \n",
            "United States Virgin Islands  0.054054      NaN      NaN  \n",
            "(56, 7)\n"
          ]
        }
      ]
    },
    {
      "cell_type": "markdown",
      "source": [
        "I think distributed computing is beneficial when working with large datasets. Since this is a moderate-sized dataset, parallel computing makes more sense. Although distributed computing yields results faster compared to parallel computing, parallel computing is sufficient in this case.\"\n"
      ],
      "metadata": {
        "id": "mFCGn_sZEw26"
      }
    },
    {
      "cell_type": "code",
      "source": [
        "#3.4\n",
        "from dask.distributed import Client # Import the Client class from dask.distributed\n",
        "\n",
        "client = Client()\n",
        "\n",
        "cfr_changes = cfr_matrix.diff(axis=1)\n",
        "\n",
        "# Aggregating changes\n",
        "total_change = cfr_changes.abs().sum(axis=1)\n",
        "\n",
        "# Ranking states by total CFR change\n",
        "cfr_change_ranking = total_change.sort_values(ascending=False)\n",
        "\n",
        "\n",
        "\n",
        "print(\"\\nTop 10 states by total CFR change:\")\n",
        "print(cfr_change_ranking.head(10))"
      ],
      "metadata": {
        "colab": {
          "base_uri": "https://localhost:8080/"
        },
        "id": "3yHvK4vVExkf",
        "outputId": "424530c2-42c8-4a75-cc73-d6eda3e92101"
      },
      "execution_count": null,
      "outputs": [
        {
          "output_type": "stream",
          "name": "stderr",
          "text": [
            "/usr/local/lib/python3.11/dist-packages/distributed/node.py:187: UserWarning: Port 8787 is already in use.\n",
            "Perhaps you already have a cluster running?\n",
            "Hosting the HTTP server on port 34939 instead\n",
            "  warnings.warn(\n",
            "INFO:distributed.scheduler:State start\n",
            "INFO:distributed.scheduler:  Scheduler at:     tcp://127.0.0.1:40481\n",
            "INFO:distributed.scheduler:  dashboard at:  http://127.0.0.1:34939/status\n",
            "INFO:distributed.scheduler:Registering Worker plugin shuffle\n",
            "INFO:distributed.nanny:        Start Nanny at: 'tcp://127.0.0.1:43511'\n",
            "INFO:distributed.nanny:        Start Nanny at: 'tcp://127.0.0.1:42285'\n",
            "INFO:distributed.scheduler:Register worker <WorkerState 'tcp://127.0.0.1:36521', name: 0, status: init, memory: 0, processing: 0>\n",
            "INFO:distributed.scheduler:Starting worker compute stream, tcp://127.0.0.1:36521\n",
            "INFO:distributed.core:Starting established connection to tcp://127.0.0.1:60884\n",
            "INFO:distributed.scheduler:Register worker <WorkerState 'tcp://127.0.0.1:36971', name: 1, status: init, memory: 0, processing: 0>\n",
            "INFO:distributed.scheduler:Starting worker compute stream, tcp://127.0.0.1:36971\n",
            "INFO:distributed.core:Starting established connection to tcp://127.0.0.1:60900\n",
            "INFO:distributed.scheduler:Receive client connection: Client-5ca45575-f26b-11ef-809d-0242ac1c000c\n",
            "INFO:distributed.core:Starting established connection to tcp://127.0.0.1:60902\n"
          ]
        },
        {
          "output_type": "stream",
          "name": "stdout",
          "text": [
            "\n",
            "Top 10 states by total CFR change:\n",
            "state\n",
            "Northern Mariana Islands        0.078341\n",
            "Connecticut                     0.076915\n",
            "Michigan                        0.072161\n",
            "New Jersey                      0.069866\n",
            "Missouri                        0.064549\n",
            "Pennsylvania                    0.062147\n",
            "Massachusetts                   0.061106\n",
            "New York                        0.060628\n",
            "United States Virgin Islands    0.059253\n",
            "Wisconsin                       0.057251\n",
            "dtype: float64\n"
          ]
        }
      ]
    },
    {
      "cell_type": "markdown",
      "source": [
        "I used distributed computing for this code. This code was executed faster when compared to previous codes. But this is not a very large dataset, parallel computing makes sense ."
      ],
      "metadata": {
        "id": "Mbs5pVsRN3EA"
      }
    },
    {
      "cell_type": "markdown",
      "source": [
        "Northern Mariana islands has the highest CFR change rate."
      ],
      "metadata": {
        "id": "R3w6_g27KO4W"
      }
    }
  ]
}