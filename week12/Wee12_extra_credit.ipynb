{
  "nbformat": 4,
  "nbformat_minor": 0,
  "metadata": {
    "colab": {
      "provenance": []
    },
    "kernelspec": {
      "name": "python3",
      "display_name": "Python 3"
    },
    "language_info": {
      "name": "python"
    }
  },
  "cells": [
    {
      "cell_type": "markdown",
      "source": [
        "**WEEK 12 ASSIGNMENT - Extra credit**\n",
        "\n",
        "\n",
        "Nane: Kancharla Naga Jahnavi\n",
        "\n",
        "\n",
        "For this extra credit Im using Feed Forward neural network.\n",
        "\n",
        "\n",
        "\n",
        "\n"
      ],
      "metadata": {
        "id": "HaFz0CseAmsb"
      }
    },
    {
      "cell_type": "code",
      "execution_count": null,
      "metadata": {
        "id": "3qRt71QwAkOS"
      },
      "outputs": [],
      "source": [
        "#importing required libraries\n",
        "import tensorflow as tf\n",
        "from tensorflow import keras\n",
        "from sklearn.datasets import load_diabetes\n",
        "from sklearn.model_selection import train_test_split\n",
        "from sklearn.preprocessing import StandardScaler\n",
        "import numpy as np\n"
      ]
    },
    {
      "cell_type": "code",
      "source": [
        "#im using diabetes data from scikit-learn\n",
        "diabetes = load_diabetes()"
      ],
      "metadata": {
        "id": "MTdfJnl7Bky7"
      },
      "execution_count": null,
      "outputs": []
    },
    {
      "cell_type": "code",
      "source": [
        "#FEATURES AND TARGET VALUES\n",
        "\n",
        "X, y = diabetes.data, diabetes.target\n"
      ],
      "metadata": {
        "id": "OiqzjwuvB3pj"
      },
      "execution_count": null,
      "outputs": []
    },
    {
      "cell_type": "code",
      "source": [
        "#Splitting the data into training and testing sets\n",
        "X_train, X_test, y_train, y_test = train_test_split(X, y, test_size=0.2, random_state=42)\n"
      ],
      "metadata": {
        "id": "LspqVUvDCWxs"
      },
      "execution_count": null,
      "outputs": []
    },
    {
      "cell_type": "code",
      "source": [
        "#normalizing the feautures\n",
        "scaler = StandardScaler()\n",
        "X_train = scaler.fit_transform(X_train)\n",
        "X_test = scaler.transform(X_test)"
      ],
      "metadata": {
        "id": "26NfGAn7CyYb"
      },
      "execution_count": null,
      "outputs": []
    },
    {
      "cell_type": "code",
      "source": [
        "#defining the model\n",
        "model = keras.Sequential([\n",
        "    keras.layers.Dense(16, activation='relu', input_shape=(X_train.shape[1],)),  # Hidden layer 1\n",
        "    keras.layers.Dense(8, activation='relu'),  # Hidden layer 2\n",
        "    keras.layers.Dense(1)  # Output layer\n",
        "])\n"
      ],
      "metadata": {
        "id": "TyF7fx8iC_Ww"
      },
      "execution_count": null,
      "outputs": []
    },
    {
      "cell_type": "code",
      "source": [
        "#compiling the model\n",
        "model.compile(optimizer='adam', loss='mse', metrics=['mae'])\n"
      ],
      "metadata": {
        "id": "d_-qZWcmDNg8"
      },
      "execution_count": null,
      "outputs": []
    },
    {
      "cell_type": "code",
      "source": [
        "#training the model\n",
        "model.fit(X_train, y_train, epochs=100, batch_size=16, verbose=0)\n"
      ],
      "metadata": {
        "colab": {
          "base_uri": "https://localhost:8080/"
        },
        "id": "Lm74Nc8jDWtb",
        "outputId": "c09a94be-a409-435c-ae27-5052e79e59af"
      },
      "execution_count": null,
      "outputs": [
        {
          "output_type": "execute_result",
          "data": {
            "text/plain": [
              "<keras.src.callbacks.history.History at 0x7f82bc5ec690>"
            ]
          },
          "metadata": {},
          "execution_count": 10
        }
      ]
    },
    {
      "cell_type": "code",
      "source": [
        "#predictions\n",
        "predictions = model.predict(X_test[:5])\n"
      ],
      "metadata": {
        "colab": {
          "base_uri": "https://localhost:8080/"
        },
        "id": "6jeZtNyQDujJ",
        "outputId": "8ca9a7ef-4e26-4942-dca4-2066c9f08827"
      },
      "execution_count": null,
      "outputs": [
        {
          "output_type": "stream",
          "name": "stdout",
          "text": [
            "\u001b[1m1/1\u001b[0m \u001b[32m━━━━━━━━━━━━━━━━━━━━\u001b[0m\u001b[37m\u001b[0m \u001b[1m0s\u001b[0m 67ms/step\n"
          ]
        }
      ]
    },
    {
      "cell_type": "code",
      "source": [
        "for i in range(5):\n",
        "    print(f\"Actual Value: {y_test[i]:.2f}, Predicted Value: {predictions[i][0]:.2f}\")\n"
      ],
      "metadata": {
        "colab": {
          "base_uri": "https://localhost:8080/"
        },
        "id": "XQ4t2keMD0ly",
        "outputId": "9e84bb2f-3ef6-4aab-cf27-c501da017016"
      },
      "execution_count": null,
      "outputs": [
        {
          "output_type": "stream",
          "name": "stdout",
          "text": [
            "Actual Value: 219.00, Predicted Value: 161.28\n",
            "Actual Value: 70.00, Predicted Value: 194.33\n",
            "Actual Value: 202.00, Predicted Value: 144.38\n",
            "Actual Value: 230.00, Predicted Value: 326.33\n",
            "Actual Value: 111.00, Predicted Value: 99.07\n"
          ]
        }
      ]
    }
  ]
}