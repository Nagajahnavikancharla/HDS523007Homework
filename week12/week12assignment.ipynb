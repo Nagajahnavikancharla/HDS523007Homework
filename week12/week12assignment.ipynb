{
  "nbformat": 4,
  "nbformat_minor": 0,
  "metadata": {
    "colab": {
      "provenance": []
    },
    "kernelspec": {
      "name": "python3",
      "display_name": "Python 3"
    },
    "language_info": {
      "name": "python"
    }
  },
  "cells": [
    {
      "cell_type": "markdown",
      "source": [
        "**Week 12 assignment**\n",
        "\n",
        "Name: Naga Jahnavi kancharla"
      ],
      "metadata": {
        "id": "KrQA2OEUcMWS"
      }
    },
    {
      "cell_type": "code",
      "execution_count": 1,
      "metadata": {
        "id": "VV0sKXwgcHcp"
      },
      "outputs": [],
      "source": [
        "#importing the required libraries\n",
        "import pandas as pd\n",
        "import numpy as np\n",
        "import time\n",
        "from sklearn.model_selection import train_test_split\n",
        "from sklearn.preprocessing import StandardScaler\n",
        "from tensorflow.keras.models import Sequential\n",
        "from tensorflow.keras.layers import Dense\n",
        "from tensorflow.keras.optimizers import Adam"
      ]
    },
    {
      "cell_type": "code",
      "source": [
        "#loading the data\n",
        "#im not getting any data for the size 100000. So im taking dataset that have sizes 1000,10000,100000 from week 11.\n",
        "full_df = pd.read_csv(\"/content/bootstrapped_data.csv\")\n"
      ],
      "metadata": {
        "id": "67940uWhcr2W"
      },
      "execution_count": 2,
      "outputs": []
    },
    {
      "cell_type": "code",
      "source": [
        "#target column\n",
        "target_column = 'outcome' # it is a binary variable"
      ],
      "metadata": {
        "id": "qDw82oSkdgdh"
      },
      "execution_count": 3,
      "outputs": []
    },
    {
      "cell_type": "code",
      "source": [
        "if target_column not in full_df.columns:\n",
        "    raise ValueError(f\"Dataset must contain a '{target_column}' column.\")"
      ],
      "metadata": {
        "id": "MahWmWZedv6w"
      },
      "execution_count": 4,
      "outputs": []
    },
    {
      "cell_type": "code",
      "source": [
        "#creating subsets of the data\n",
        "df_1000 = full_df.iloc[:1000].copy()\n",
        "df_10000 = full_df.iloc[:10000].copy()\n",
        "df_100000 = full_df.iloc[:100000].copy()\n",
        "\n",
        "datasets = {\n",
        "    \"1000\": df_1000,\n",
        "    \"10000\": df_10000,\n",
        "    \"100000\": df_100000,\n",
        "}"
      ],
      "metadata": {
        "id": "euqgTRMvd4rq"
      },
      "execution_count": 5,
      "outputs": []
    },
    {
      "cell_type": "code",
      "source": [
        "#defining the function to train model\n",
        "def run_model(df, config, activation='relu', epochs=20, batch_size=32):\n",
        "    X = df.drop(target_column, axis=1).values\n",
        "    y = df[target_column].values\n",
        "\n",
        "    # Train-validation split\n",
        "    X_train, X_val, y_train, y_val = train_test_split(X, y, test_size=0.2, random_state=42)\n",
        "\n",
        "    # Scaling features\n",
        "    scaler = StandardScaler()\n",
        "    X_train = scaler.fit_transform(X_train)\n",
        "    X_val = scaler.transform(X_val)\n",
        "\n",
        "    # Building the model\n",
        "    model = Sequential()\n",
        "    model.add(Dense(config[0], input_dim=X.shape[1], activation=activation))\n",
        "    for nodes in config[1:]:\n",
        "        model.add(Dense(nodes, activation=activation))\n",
        "    model.add(Dense(1, activation='sigmoid'))  # Output layer for binary classification\n",
        "    model.compile(optimizer=Adam(), loss='binary_crossentropy', metrics=['accuracy'])\n",
        "    # Training and time\n",
        "    start_time = time.time()\n",
        "    model.fit(X_train, y_train, epochs=epochs, batch_size=batch_size, verbose=0, validation_data=(X_val, y_val))\n",
        "    end_time = time.time()\n",
        "\n",
        "    # Evaluating the performance\n",
        "    train_loss, _ = model.evaluate(X_train, y_train, verbose=0)\n",
        "    val_loss, _ = model.evaluate(X_val, y_val, verbose=0)\n",
        "    exec_time = end_time - start_time\n",
        "\n",
        "    return train_loss, val_loss, exec_time\n",
        ""
      ],
      "metadata": {
        "id": "JAt5iBSweGI0"
      },
      "execution_count": 12,
      "outputs": []
    },
    {
      "cell_type": "code",
      "source": [
        "#runing all configurations\n",
        "configs = {\n",
        "    \"1layer\": [4],\n",
        "    \"2layer\": [4, 4]\n",
        "}\n",
        "\n",
        "results = []\n",
        "\n",
        "for size_label, df in datasets.items():\n",
        "    for config_label, config in configs.items():\n",
        "        model_label = f\"{size_label}_{config_label}\"\n",
        "        print(f\"Training model: {model_label}\")\n",
        "        train_err, val_err, exec_time = run_model(df, config)\n",
        "        results.append({\n",
        "            \"Data Size\": size_label,\n",
        "            \"Configuration\": config_label,\n",
        "            \"Training Error\": round(train_err, 4),\n",
        "            \"Validation Error\": round(val_err, 4),\n",
        "            \"Execution Time (s)\": round(exec_time, 2)\n",
        "        })"
      ],
      "metadata": {
        "colab": {
          "base_uri": "https://localhost:8080/"
        },
        "id": "Xk8C3CR1f2ch",
        "outputId": "8c325794-d999-4b68-c803-4e016ad4ed6e"
      },
      "execution_count": 13,
      "outputs": [
        {
          "output_type": "stream",
          "name": "stdout",
          "text": [
            "Training model: 1000_1layer\n"
          ]
        },
        {
          "output_type": "stream",
          "name": "stderr",
          "text": [
            "/usr/local/lib/python3.11/dist-packages/keras/src/layers/core/dense.py:87: UserWarning: Do not pass an `input_shape`/`input_dim` argument to a layer. When using Sequential models, prefer using an `Input(shape)` object as the first layer in the model instead.\n",
            "  super().__init__(activity_regularizer=activity_regularizer, **kwargs)\n"
          ]
        },
        {
          "output_type": "stream",
          "name": "stdout",
          "text": [
            "Training model: 1000_2layer\n"
          ]
        },
        {
          "output_type": "stream",
          "name": "stderr",
          "text": [
            "/usr/local/lib/python3.11/dist-packages/keras/src/layers/core/dense.py:87: UserWarning: Do not pass an `input_shape`/`input_dim` argument to a layer. When using Sequential models, prefer using an `Input(shape)` object as the first layer in the model instead.\n",
            "  super().__init__(activity_regularizer=activity_regularizer, **kwargs)\n"
          ]
        },
        {
          "output_type": "stream",
          "name": "stdout",
          "text": [
            "Training model: 10000_1layer\n"
          ]
        },
        {
          "output_type": "stream",
          "name": "stderr",
          "text": [
            "/usr/local/lib/python3.11/dist-packages/keras/src/layers/core/dense.py:87: UserWarning: Do not pass an `input_shape`/`input_dim` argument to a layer. When using Sequential models, prefer using an `Input(shape)` object as the first layer in the model instead.\n",
            "  super().__init__(activity_regularizer=activity_regularizer, **kwargs)\n"
          ]
        },
        {
          "output_type": "stream",
          "name": "stdout",
          "text": [
            "Training model: 10000_2layer\n"
          ]
        },
        {
          "output_type": "stream",
          "name": "stderr",
          "text": [
            "/usr/local/lib/python3.11/dist-packages/keras/src/layers/core/dense.py:87: UserWarning: Do not pass an `input_shape`/`input_dim` argument to a layer. When using Sequential models, prefer using an `Input(shape)` object as the first layer in the model instead.\n",
            "  super().__init__(activity_regularizer=activity_regularizer, **kwargs)\n"
          ]
        },
        {
          "output_type": "stream",
          "name": "stdout",
          "text": [
            "Training model: 100000_1layer\n"
          ]
        },
        {
          "output_type": "stream",
          "name": "stderr",
          "text": [
            "/usr/local/lib/python3.11/dist-packages/keras/src/layers/core/dense.py:87: UserWarning: Do not pass an `input_shape`/`input_dim` argument to a layer. When using Sequential models, prefer using an `Input(shape)` object as the first layer in the model instead.\n",
            "  super().__init__(activity_regularizer=activity_regularizer, **kwargs)\n"
          ]
        },
        {
          "output_type": "stream",
          "name": "stdout",
          "text": [
            "Training model: 100000_2layer\n"
          ]
        },
        {
          "output_type": "stream",
          "name": "stderr",
          "text": [
            "/usr/local/lib/python3.11/dist-packages/keras/src/layers/core/dense.py:87: UserWarning: Do not pass an `input_shape`/`input_dim` argument to a layer. When using Sequential models, prefer using an `Input(shape)` object as the first layer in the model instead.\n",
            "  super().__init__(activity_regularizer=activity_regularizer, **kwargs)\n"
          ]
        }
      ]
    },
    {
      "cell_type": "code",
      "source": [
        "#displaying the results\n",
        "results_df = pd.DataFrame(results)\n",
        "print(\"\\nFinal Results:\")\n",
        "print(results_df)"
      ],
      "metadata": {
        "colab": {
          "base_uri": "https://localhost:8080/"
        },
        "id": "K0q8XbLrgJLr",
        "outputId": "b14cad01-caee-44fa-8244-13679f4b4718"
      },
      "execution_count": 14,
      "outputs": [
        {
          "output_type": "stream",
          "name": "stdout",
          "text": [
            "\n",
            "Final Results:\n",
            "  Data Size Configuration  Training Error  Validation Error  \\\n",
            "0      1000        1layer          0.4602            0.4520   \n",
            "1      1000        2layer          0.3216            0.2847   \n",
            "2     10000        1layer          0.0334            0.0281   \n",
            "3     10000        2layer          0.0183            0.0151   \n",
            "4    100000        1layer          0.0062            0.0067   \n",
            "5    100000        2layer          0.0037            0.0039   \n",
            "\n",
            "   Execution Time (s)  \n",
            "0                5.87  \n",
            "1                4.94  \n",
            "2               15.70  \n",
            "3               22.07  \n",
            "4              156.31  \n",
            "5              160.87  \n"
          ]
        }
      ]
    }
  ]
}